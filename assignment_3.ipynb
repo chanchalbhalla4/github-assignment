{
 "cells": [
  {
   "cell_type": "code",
   "execution_count": 1,
   "metadata": {},
   "outputs": [
    {
     "data": {
      "text/plain": [
       "0.0303030303030303"
      ]
     },
     "execution_count": 1,
     "metadata": {},
     "output_type": "execute_result"
    }
   ],
   "source": [
    "#Question 1\n",
    "#Consider P(A) = 11 / 36\n",
    "#P(B) = 6 / 36\n",
    "#P(A|B) = 2 / 36\n",
    "#Write a function which takes 3 probabilities as argument and outputs the Conditional probability P(B|A). \n",
    "\n",
    "def probability(A,B,C):\n",
    "    C=(C*B)/A\n",
    "    return (C)\n",
    "\n",
    "probability(11/36,6/36,2/36)"
   ]
  },
  {
   "cell_type": "code",
   "execution_count": 3,
   "metadata": {},
   "outputs": [
    {
     "data": {
      "text/plain": [
       "0.5833333333333334"
      ]
     },
     "execution_count": 3,
     "metadata": {},
     "output_type": "execute_result"
    }
   ],
   "source": [
    "#Question 2\n",
    "\n",
    "# bag1 contains 4 white &  6 black\n",
    "# bag2 contains 4 white &   black\n",
    "# 1 ball is drawn at random from one of the bags and it is found to be black. \n",
    "#Find the probability that it was drawn from Bag I. \n",
    "def prob(ev1,ev2):\n",
    "    \n",
    "    Pev1 = 6/10\n",
    "    Pev2 = 3/7\n",
    "    Pev1b = (Pev1*ev1)/((Pev1*ev1)+(Pev2*ev2))\n",
    "    return (Pev1b)\n",
    "\n",
    "prob(1/2,1/2)"
   ]
  },
  {
   "cell_type": "code",
   "execution_count": 5,
   "metadata": {},
   "outputs": [
    {
     "data": {
      "text/plain": [
       "0.2857142857142857"
      ]
     },
     "execution_count": 5,
     "metadata": {},
     "output_type": "execute_result"
    }
   ],
   "source": [
    "#Question 3\n",
    "#A man is known to speak truth 2 out of 3 times.\n",
    "#He throws a die and reports that number obtained is a four. \n",
    "#Find the probability that the number obtained is actually a four. \n",
    "def pro(X1,X2):\n",
    "    \n",
    "    ptX1 = 2/3\n",
    "    ptX2 = 1/3\n",
    "    pX1t = (ptX1*X1)/((ptX1*X1)+(ptX2*X2))\n",
    "    return (pX1t)\n",
    "\n",
    "pro(1/6,5/6)"
   ]
  },
  {
   "cell_type": "code",
   "execution_count": null,
   "metadata": {},
   "outputs": [],
   "source": []
  }
 ],
 "metadata": {
  "kernelspec": {
   "display_name": "Python 3",
   "language": "python",
   "name": "python3"
  },
  "language_info": {
   "codemirror_mode": {
    "name": "ipython",
    "version": 3
   },
   "file_extension": ".py",
   "mimetype": "text/x-python",
   "name": "python",
   "nbconvert_exporter": "python",
   "pygments_lexer": "ipython3",
   "version": "3.6.5"
  }
 },
 "nbformat": 4,
 "nbformat_minor": 2
}
